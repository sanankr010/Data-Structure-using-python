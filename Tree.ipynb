{
 "cells": [
  {
   "cell_type": "code",
   "execution_count": 74,
   "metadata": {},
   "outputs": [],
   "source": [
    "class Node:\n",
    "    def __init__(self):\n",
    "        self.leftptr=None\n",
    "        self.data=None\n",
    "        self.rightptr=None\n",
    "class CreateTree:\n",
    "    def __init__(self,n):\n",
    "        self.RootNode=None\n",
    "        self.NewNode=None\n",
    "        self.n=n\n",
    "    def Tree(self,RootNode,NewNode):\n",
    "        if RootNode == None:\n",
    "            RootNode=NewNode\n",
    "            return RootNode\n",
    "        elif NewNode.data < RootNode.data:\n",
    "            RootNode.leftptr=self.Tree(RootNode.leftptr,NewNode)\n",
    "        else:\n",
    "            RootNode.rightptr=self.Tree(RootNode.rightptr,NewNode)\n",
    "        return RootNode\n",
    "        \n",
    "    def add_node(self,Data):\n",
    "        new_node=Node()\n",
    "        new_node.leftptr=None\n",
    "        new_node.data=Data\n",
    "        new_node.rightptr=None\n",
    "        \n",
    "        self.RootNode=self.Tree(self.RootNode,new_node)\n",
    "        \n",
    "t1=CreateTree(1)\n",
    "t1.add_node(61)\n",
    "t1.add_node(13)\n",
    "t1.add_node(6)\n",
    "t1.add_node(72)\n",
    "t1.add_node(65)\n",
    "t1.add_node(86)\n",
    "t1.add_node(15)"
   ]
  },
  {
   "cell_type": "code",
   "execution_count": 75,
   "metadata": {},
   "outputs": [
    {
     "name": "stdout",
     "output_type": "stream",
     "text": [
      "61\n",
      "13\n",
      "72\n",
      "6\n",
      "15\n",
      "65\n",
      "86\n"
     ]
    }
   ],
   "source": [
    "#to print a tree in BFS:\n",
    "def BFS(RootNode):\n",
    "    l=[]\n",
    "    l.append(RootNode)\n",
    "    while(len(l)!=0):\n",
    "        print(l[0].data)\n",
    "        if l[0].leftptr!=None:\n",
    "            l.append(l[0].leftptr)\n",
    "        if l[0].rightptr!=None:\n",
    "            l.append(l[0].rightptr)\n",
    "        l.pop(0)\n",
    "    \n",
    "BFS(t1.RootNode)"
   ]
  },
  {
   "cell_type": "code",
   "execution_count": 76,
   "metadata": {},
   "outputs": [
    {
     "name": "stdout",
     "output_type": "stream",
     "text": [
      "6\n",
      "13\n",
      "15\n",
      "61\n",
      "65\n",
      "72\n",
      "86\n"
     ]
    }
   ],
   "source": [
    "def printInorder(root):\n",
    "    #print(root)\n",
    "  \n",
    "    if root:\n",
    "        #print(root)\n",
    "  \n",
    "        # First recur on left child \n",
    "        printInorder(root.leftptr) \n",
    "  \n",
    "        # then print the data of node \n",
    "        print(root.data), \n",
    "  \n",
    "        # now recur on right child \n",
    "        printInorder(root.rightptr)\n",
    "printInorder(t1.RootNode)"
   ]
  },
  {
   "cell_type": "code",
   "execution_count": 77,
   "metadata": {},
   "outputs": [
    {
     "name": "stdout",
     "output_type": "stream",
     "text": [
      "6\n",
      "15\n",
      "13\n",
      "65\n",
      "86\n",
      "72\n",
      "61\n"
     ]
    }
   ],
   "source": [
    "# A function to do postorder tree traversal \n",
    "def printPostorder(root): \n",
    "  \n",
    "    if root: \n",
    "  \n",
    "        # First recur on left child \n",
    "        printPostorder(root.leftptr) \n",
    "  \n",
    "        # the recur on right child \n",
    "        printPostorder(root.rightptr) \n",
    "  \n",
    "        # now print the data of node \n",
    "        print(root.data)\n",
    "printPostorder(t1.RootNode)"
   ]
  },
  {
   "cell_type": "code",
   "execution_count": 78,
   "metadata": {},
   "outputs": [
    {
     "name": "stdout",
     "output_type": "stream",
     "text": [
      "61\n",
      "13\n",
      "6\n",
      "15\n",
      "72\n",
      "65\n",
      "86\n"
     ]
    }
   ],
   "source": [
    "# A function to do preorder tree traversal \n",
    "def printPreorder(root): \n",
    "  \n",
    "    if root: \n",
    "  \n",
    "        # First print the data of node \n",
    "        print(root.data), \n",
    "  \n",
    "        # Then recur on left child \n",
    "        printPreorder(root.leftptr) \n",
    "  \n",
    "        # Finally recur on right child \n",
    "        printPreorder(root.rightptr)\n",
    "printPreorder(t1.RootNode)"
   ]
  }
 ],
 "metadata": {
  "kernelspec": {
   "display_name": "Python 3",
   "language": "python",
   "name": "python3"
  },
  "language_info": {
   "codemirror_mode": {
    "name": "ipython",
    "version": 3
   },
   "file_extension": ".py",
   "mimetype": "text/x-python",
   "name": "python",
   "nbconvert_exporter": "python",
   "pygments_lexer": "ipython3",
   "version": "3.6.5"
  }
 },
 "nbformat": 4,
 "nbformat_minor": 2
}
