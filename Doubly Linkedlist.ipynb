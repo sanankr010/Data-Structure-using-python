{
 "cells": [
  {
   "cell_type": "code",
   "execution_count": 54,
   "metadata": {},
   "outputs": [
    {
     "name": "stdout",
     "output_type": "stream",
     "text": [
      "forward print\n",
      "5\n",
      "3\n",
      "6\n",
      "7\n",
      "8\n",
      "backward print\n",
      "8\n",
      "7\n",
      "6\n",
      "3\n",
      "5\n"
     ]
    }
   ],
   "source": [
    "class node:\n",
    "    \n",
    "    def __init__(self):\n",
    "        self.data=None\n",
    "        self.prev=None\n",
    "        self.next=None\n",
    "class LinkedList:\n",
    "    def __init__(self):\n",
    "        self.start=None\n",
    "        self.current=None\n",
    "    def add_node(self,Data):\n",
    "        new_node=node()\n",
    "        if self.start == None:\n",
    "            new_node.data=Data\n",
    "            new_node.next=None\n",
    "            new_node.prev=self.start\n",
    "            self.start=new_node\n",
    "            self.current=self.start\n",
    "            #print(self.start)\n",
    "        else:\n",
    "            new_node.data=Data\n",
    "            new_node.next=None\n",
    "            new_node.prev=self.current\n",
    "            self.current.next=new_node\n",
    "            self.current=new_node\n",
    "            #print(self.current)\n",
    "    def printlist(self):\n",
    "        print(\"forward print\")\n",
    "        while self.start!=None:\n",
    "            #print(self.start)\n",
    "            print(self.start.data)\n",
    "            self.start=self.start.next\n",
    "        print(\"backward print\")\n",
    "        while self.current!=None:\n",
    "            print(self.current.data)\n",
    "            self.current=self.current.prev\n",
    "            \n",
    "l1=LinkedList()\n",
    "l1.add_node(5)\n",
    "l1.add_node(3)\n",
    "l1.add_node(6)\n",
    "l1.add_node(7)\n",
    "l1.add_node(8)\n",
    "l1.printlist()\n"
   ]
  }
 ],
 "metadata": {
  "kernelspec": {
   "display_name": "Python 3",
   "language": "python",
   "name": "python3"
  },
  "language_info": {
   "codemirror_mode": {
    "name": "ipython",
    "version": 3
   },
   "file_extension": ".py",
   "mimetype": "text/x-python",
   "name": "python",
   "nbconvert_exporter": "python",
   "pygments_lexer": "ipython3",
   "version": "3.6.5"
  }
 },
 "nbformat": 4,
 "nbformat_minor": 2
}
