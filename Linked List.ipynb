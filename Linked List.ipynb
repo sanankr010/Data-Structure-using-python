{
 "cells": [
  {
   "cell_type": "code",
   "execution_count": 178,
   "metadata": {},
   "outputs": [],
   "source": [
    "import random"
   ]
  },
  {
   "cell_type": "code",
   "execution_count": 179,
   "metadata": {},
   "outputs": [
    {
     "name": "stdout",
     "output_type": "stream",
     "text": [
      "[370, 288, 350, 214, 160, 153, 195, 475, 275, 90, 487, 396, 290, 328, 399, 177, 343, 139, 386, 107, 402, 237, 484, 200, 165, 299, 163, 394, 99, 456, 185, 426, 449, 335, 475, 124, 264, 289, 324, 135, 146, 173, 143, 208, 290, 232, 194, 396, 157, 358, 344, 141, 257, 154, 360, 306, 484, 235, 513, 206, 238, 231, 469, 373, 467, 85, 189, 500, 107, 137, 322, 424, 232, 209, 277, 277, 204, 153, 86, 326, 82, 252, 199, 305, 198, 457, 448, 395, 320, 475, 392, 325, 444, 379, 214, 258, 329, 85, 279, 190]\n"
     ]
    }
   ],
   "source": [
    "l1=[]\n",
    "for i in range(100):\n",
    "    n=random.randint(78,516)\n",
    "    l1.append(n)\n",
    "print(l1)"
   ]
  },
  {
   "cell_type": "markdown",
   "metadata": {},
   "source": [
    "int *ptr ;\n",
    "-> in c ptr(not *ptr) is a pointer variable which points to the address of a memory location where an integer can be stored.\n",
    "->*ptr here * dereferencing operator and *ptr gives the value stored at memory location to whose address ptr was."
   ]
  },
  {
   "cell_type": "code",
   "execution_count": 180,
   "metadata": {},
   "outputs": [],
   "source": [
    "class node:\n",
    "    def __init__(self):\n",
    "        self.data=None\n",
    "        self.Next=None\n",
    "class linkedlist:\n",
    "    def __init__(self):\n",
    "        self.current=None\n",
    "        self.start=None\n",
    "    def add_node(self, data):\n",
    "        if self.current == None:\n",
    "            new_node=node()\n",
    "            new_node.data=data\n",
    "            new_node.Next=self.start\n",
    "            self.start=new_node\n",
    "            self.current=new_node\n",
    "        else:\n",
    "            new_node=node()\n",
    "            new_node.data=data\n",
    "            new_node.Next=None\n",
    "            self.current.Next=new_node\n",
    "            #print(self.current.Next)\n",
    "            self.current=new_node\n",
    "            #print(self.current)\n",
    "    def linkedlist_print(self):\n",
    "        node=self.start\n",
    "        while node:\n",
    "            #print(\"type=\",type(node))\n",
    "            print(node.data)\n",
    "            node=node.Next"
   ]
  },
  {
   "cell_type": "code",
   "execution_count": 181,
   "metadata": {},
   "outputs": [
    {
     "name": "stdout",
     "output_type": "stream",
     "text": [
      "[487, 139, 107, 163, 449, 173, 157, 257, 373, 467, 107, 137, 277, 277, 199, 457, 379]\n",
      "487\n",
      "139\n",
      "107\n",
      "163\n",
      "449\n",
      "173\n",
      "157\n",
      "257\n",
      "373\n",
      "467\n",
      "107\n",
      "137\n",
      "277\n",
      "277\n",
      "199\n",
      "457\n",
      "379\n"
     ]
    }
   ],
   "source": [
    "l2=[]\n",
    "l3=linkedlist()\n",
    "for i in l1:\n",
    "    for j in range(2,i+1):\n",
    "        if i % j== 0:\n",
    "            break\n",
    "    if i == j :\n",
    "        l2.append(i)\n",
    "        l3.add_node(i)\n",
    "        #l3.list_print()\n",
    "print(l2)\n",
    "l3.list_print()"
   ]
  }
 ],
 "metadata": {
  "kernelspec": {
   "display_name": "Python 3",
   "language": "python",
   "name": "python3"
  },
  "language_info": {
   "codemirror_mode": {
    "name": "ipython",
    "version": 3
   },
   "file_extension": ".py",
   "mimetype": "text/x-python",
   "name": "python",
   "nbconvert_exporter": "python",
   "pygments_lexer": "ipython3",
   "version": "3.6.5"
  }
 },
 "nbformat": 4,
 "nbformat_minor": 2
}
