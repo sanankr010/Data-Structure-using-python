{
 "cells": [
  {
   "cell_type": "code",
   "execution_count": 75,
   "metadata": {},
   "outputs": [
    {
     "name": "stdout",
     "output_type": "stream",
     "text": [
      "[3, 5, 5, 6, 6, 7, 8, 8.5, 9, 11, 12, 12, 12, 12.5, 13, 17, 23, 34, 36, 54, 83, 89, 102]\n"
     ]
    }
   ],
   "source": [
    "l=[12,5,3,12.5,34,7,6,5,9,8,36,12,17,11,13,12,23,89,6,54,83,102,8.5]\n",
    "for i in range(0,(len(l))-1):\n",
    "    median=int(len(l[0:i+2])/2)-1\n",
    "    if l[i+1]>l[median]:\n",
    "        temp=l[i+1]\n",
    "        #print(\"m=\",l[median],temp,i+1)\n",
    "        for j in range(median,i+1):\n",
    "            #print(l[j],end=' ')\n",
    "            if temp<=l[j]:\n",
    "                l.pop(i+1)\n",
    "                l.insert(j,temp)\n",
    "                break\n",
    "        #print(\"if=\",l)\n",
    "                \n",
    "    else:\n",
    "        temp=l[i+1]\n",
    "        #print(\"m=\",l[median],temp,i+1)\n",
    "        for j in range(0,median+1):\n",
    "            #print(l[j],end=' ')\n",
    "            if temp<=l[j]:\n",
    "                l.pop(i+1)\n",
    "                l.insert(j,temp)\n",
    "                break\n",
    "                \n",
    "                #print(\"see=\",l)\n",
    "        #print(\"else=\",l)\n",
    "print(l)\n",
    "            "
   ]
  }
 ],
 "metadata": {
  "kernelspec": {
   "display_name": "Python 3",
   "language": "python",
   "name": "python3"
  },
  "language_info": {
   "codemirror_mode": {
    "name": "ipython",
    "version": 3
   },
   "file_extension": ".py",
   "mimetype": "text/x-python",
   "name": "python",
   "nbconvert_exporter": "python",
   "pygments_lexer": "ipython3",
   "version": "3.6.5"
  }
 },
 "nbformat": 4,
 "nbformat_minor": 2
}
